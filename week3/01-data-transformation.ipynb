{
 "cells": [
  {
   "cell_type": "markdown",
   "metadata": {
    "application/vnd.databricks.v1+cell": {
     "cellMetadata": {},
     "inputWidgets": {},
     "nuid": "6a919735-c102-4c07-b86f-2978e42a1912",
     "showTitle": false,
     "tableResultSettingsMap": {},
     "title": ""
    }
   },
   "source": [
    "\n",
    "##  Medallion Architecture (Multi-hop)\n",
    "\n",
    "\n",
    "- Medallion Architecture is a **layered approach** for building reliable, scalable data lakes:\n",
    "\n",
    "| Layer                 | Description                                                          | Data Quality           | Purpose                                                        |\n",
    "| --------------------- | -------------------------------------------------------------------- | ---------------------- | -------------------------------------------------------------- |\n",
    "| **Bronze** (Raw)      | Raw ingestion from source systems (e.g., logs, events, files)        | Raw data, may be dirty | Capture original data for audit and backup                     |\n",
    "| **Silver** (Cleansed) | Cleaned and filtered data, duplicates removed, basic transformations | Cleaned, enriched      | Enable business logic, filtering, and filtering of bad records |\n",
    "| **Gold** (Aggregated) | Aggregated, business-level data ready for analytics and BI           | Curated, optimized     | Power dashboards, ML, and reporting                            |\n",
    "\n",
    "- **Multi-hop** refers to data pipelines where data flows through multiple stages or tables before reaching the final presentation layer.\n",
    "- Data flows through these layers progressively, increasing in quality and usability.\n",
    "\n"
   ]
  },
  {
   "cell_type": "code",
   "execution_count": 0,
   "metadata": {
    "application/vnd.databricks.v1+cell": {
     "cellMetadata": {},
     "inputWidgets": {},
     "nuid": "5e4ff082-1bc9-498f-8559-6089f3aed1e3",
     "showTitle": false,
     "tableResultSettingsMap": {},
     "title": ""
    }
   },
   "outputs": [],
   "source": []
  },
  {
   "cell_type": "markdown",
   "metadata": {
    "application/vnd.databricks.v1+cell": {
     "cellMetadata": {},
     "inputWidgets": {},
     "nuid": "218f70da-e1ea-4aad-8978-0af4ecb327cd",
     "showTitle": false,
     "tableResultSettingsMap": {},
     "title": ""
    }
   },
   "source": [
    "#### Silver Layer (Parse and Flatten)\n",
    "\n",
    "- Parse the JSON string column order_details with from_json() and a defined schema\n",
    "- Explode the nested array products so each product is one row\n",
    "- Flatten nested structs like delivery address and payment info\n",
    "- Cast columns to proper types (int, float, date, etc.)\n",
    "- Save as Delta table `orders_silver`"
   ]
  },
  {
   "cell_type": "code",
   "execution_count": 0,
   "metadata": {
    "application/vnd.databricks.v1+cell": {
     "cellMetadata": {},
     "inputWidgets": {},
     "nuid": "40d2d717-6c1f-42f1-a0c3-6f07337b9a71",
     "showTitle": false,
     "tableResultSettingsMap": {},
     "title": ""
    }
   },
   "outputs": [],
   "source": []
  },
  {
   "cell_type": "markdown",
   "metadata": {
    "application/vnd.databricks.v1+cell": {
     "cellMetadata": {},
     "inputWidgets": {},
     "nuid": "ba653f86-25dc-49e9-88f8-2cb09a99c95f",
     "showTitle": false,
     "tableResultSettingsMap": {},
     "title": ""
    }
   },
   "source": [
    "#### Gold Layer (Business Aggregations)\n",
    "\n",
    "- Aggregate to get metrics like total sales and order count per product category & payment method\n",
    "- Save as Gold Delta table"
   ]
  },
  {
   "cell_type": "code",
   "execution_count": 0,
   "metadata": {
    "application/vnd.databricks.v1+cell": {
     "cellMetadata": {},
     "inputWidgets": {},
     "nuid": "4551addc-6c9e-4fdc-b122-45f6573314cb",
     "showTitle": false,
     "tableResultSettingsMap": {},
     "title": ""
    }
   },
   "outputs": [],
   "source": []
  }
 ],
 "metadata": {
  "application/vnd.databricks.v1+notebook": {
   "computePreferences": null,
   "dashboards": [],
   "environmentMetadata": {
    "base_environment": "",
    "environment_version": "2"
   },
   "inputWidgetPreferences": null,
   "language": "python",
   "notebookMetadata": {
    "pythonIndentUnit": 4
   },
   "notebookName": "01-data-transformation",
   "widgets": {}
  },
  "language_info": {
   "name": "python"
  }
 },
 "nbformat": 4,
 "nbformat_minor": 0
}
