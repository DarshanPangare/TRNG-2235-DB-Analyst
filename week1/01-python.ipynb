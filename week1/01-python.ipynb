{
 "cells": [
  {
   "cell_type": "markdown",
   "metadata": {
    "application/vnd.databricks.v1+cell": {
     "cellMetadata": {
      "byteLimit": 2048000,
      "rowLimit": 10000
     },
     "inputWidgets": {},
     "nuid": "6392a1b6-fe53-47f4-9e8f-d9a48f18b724",
     "showTitle": false,
     "tableResultSettingsMap": {},
     "title": ""
    }
   },
   "source": [
    "\n",
    "# Python Fundamentals\n",
    "\n",
    "## 1. Introduction to Python\n",
    "\n",
    "- Python is a high-level, interpreted programming language known for its readability and simplicity.\n",
    "- Widely used in data analysis, web development, automation, AI/ML, and more.\n",
    "- Python integrates seamlessly with big data tools like Apache Spark via PySpark.\n",
    "\n",
    "reference [python tutorial](https://docs.python.org/3/tutorial/index.html)\n",
    "\n",
    "## 2. Python REPL and Basic I/O\n",
    "\n",
    "### REPL (Read-Eval-Print Loop)\n",
    "\n",
    "- Run Python interactively using `python` or `python3` in the terminal.\n",
    "- Useful for quick experimentation and debugging.\n",
    "\n",
    "### Input and Output\n",
    "\n",
    "```python\n",
    "name = input(\"Enter your name: \")\n",
    "print(\"Hello,\", name)\n",
    "```\n",
    "\n",
    "### Using `split()` for multiple inputs\n",
    "\n",
    "```python\n",
    "a, b = input(\"Enter two numbers: \").split()\n",
    "print(\"Sum:\", int(a) + int(b))\n",
    "```\n",
    "\n",
    "## 3. Data Types and Operations\n",
    "\n",
    "### Common Data Types\n",
    "\n",
    "- `int`, `float`, `bool`, `str`, `list`, `tuple`, `dict`, `set`\n",
    "\n"
   ]
  },
  {
   "cell_type": "code",
   "execution_count": 0,
   "metadata": {
    "application/vnd.databricks.v1+cell": {
     "cellMetadata": {
      "byteLimit": 2048000,
      "rowLimit": 10000
     },
     "inputWidgets": {},
     "nuid": "79643967-9127-419f-a123-b552ae1519aa",
     "showTitle": false,
     "tableResultSettingsMap": {},
     "title": ""
    }
   },
   "outputs": [],
   "source": [
    "x = 1\n",
    "\n",
    "type(x)"
   ]
  },
  {
   "cell_type": "markdown",
   "metadata": {
    "application/vnd.databricks.v1+cell": {
     "cellMetadata": {
      "byteLimit": 2048000,
      "rowLimit": 10000
     },
     "inputWidgets": {},
     "nuid": "81df2276-c993-470e-be61-a9bfae0c864f",
     "showTitle": false,
     "tableResultSettingsMap": {},
     "title": ""
    }
   },
   "source": [
    "\n",
    "## 4. Strings in Python\n",
    "\n",
    "\n",
    "### Common String Methods\n",
    "\n",
    "| Method           | Description                           |\n",
    "| ---------------- | ------------------------------------- |\n",
    "| `s.strip()`      | Removes leading/trailing whitespace   |\n",
    "| `s.lower()`      | Converts to lowercase                 |\n",
    "| `s.upper()`      | Converts to uppercase                 |\n",
    "| `s.replace(a,b)` | Replaces `a` with `b`                 |\n",
    "| `s.split()`      | Splits string by whitespace (or char) |\n",
    "| `s.join(list)`   | Joins list elements with a string     |"
   ]
  },
  {
   "cell_type": "code",
   "execution_count": 0,
   "metadata": {
    "application/vnd.databricks.v1+cell": {
     "cellMetadata": {
      "byteLimit": 2048000,
      "rowLimit": 10000
     },
     "inputWidgets": {},
     "nuid": "8420876c-ebe1-44b5-bc04-43fda53c1939",
     "showTitle": false,
     "tableResultSettingsMap": {},
     "title": ""
    }
   },
   "outputs": [],
   "source": [
    "name = \" Krishna Urlaganti \"\n",
    "\n",
    "first_name = \"Krishna\"\n",
    "\n",
    "last_name = \"Urlaganti\"\n",
    "\n",
    "\n",
    "\" \".join([first_name, last_name])\n",
    "\n",
    "\n",
    "\n"
   ]
  },
  {
   "cell_type": "markdown",
   "metadata": {
    "application/vnd.databricks.v1+cell": {
     "cellMetadata": {
      "byteLimit": 2048000,
      "rowLimit": 10000
     },
     "inputWidgets": {},
     "nuid": "8b9f6e01-c297-4c1c-aec8-adb561ee90d1",
     "showTitle": false,
     "tableResultSettingsMap": {},
     "title": ""
    }
   },
   "source": [
    "## 5. Lists in Python\n",
    "\n",
    "\n",
    "### Common List Methods\n",
    "\n",
    "| Method          | Description                                 |\n",
    "| --------------- | ------------------------------------------- |\n",
    "| `append(x)`     | Adds an element to the end                  |\n",
    "| `insert(i, x)`  | Inserts `x` at index `i`                    |\n",
    "| `pop()`         | Removes and returns last element            |\n",
    "| `remove(x)`     | Removes first occurrence of `x`             |\n",
    "| `sort()`        | Sorts the list in place                     |\n",
    "| `reverse()`     | Reverses the list in place                  |\n",
    "| `extend(list2)` | Adds elements from `list2` to original list |\n",
    "\n"
   ]
  },
  {
   "cell_type": "code",
   "execution_count": 0,
   "metadata": {
    "application/vnd.databricks.v1+cell": {
     "cellMetadata": {
      "byteLimit": 2048000,
      "rowLimit": 10000
     },
     "inputWidgets": {},
     "nuid": "6a8061b1-e236-4787-9f79-3a2683386be7",
     "showTitle": false,
     "tableResultSettingsMap": {},
     "title": ""
    }
   },
   "outputs": [],
   "source": [
    "x = [1,2,3,4,5,6,7,8,9]\n",
    "\n",
    "y = [12,13,14]\n",
    "\n",
    "x.append(10)\n",
    "\n",
    "x.insert(3, 11)\n",
    "\n",
    "x.remove(2)\n",
    "\n",
    "x.extend(y)\n",
    "\n",
    "x.reverse()\n",
    "\n",
    "for i in x:\n",
    "    print(i)"
   ]
  },
  {
   "cell_type": "code",
   "execution_count": 0,
   "metadata": {
    "application/vnd.databricks.v1+cell": {
     "cellMetadata": {
      "byteLimit": 2048000,
      "rowLimit": 10000
     },
     "inputWidgets": {},
     "nuid": "9818c594-6037-4e8d-9483-e8701f33c22f",
     "showTitle": false,
     "tableResultSettingsMap": {},
     "title": ""
    }
   },
   "outputs": [],
   "source": [
    "# list comprehensions\n",
    "\n",
    "squares = [i**2 for i in range(10)]\n",
    "\n",
    "even = [x for x in range(11) if x%2 ==0]\n",
    "\n",
    "print(\"squares\")\n",
    "for i in squares:\n",
    "    print(i)\n",
    "\n",
    "print(\"even numbers\")\n",
    "\n",
    "for i in even:\n",
    "    print(i)"
   ]
  },
  {
   "cell_type": "code",
   "execution_count": 0,
   "metadata": {
    "application/vnd.databricks.v1+cell": {
     "cellMetadata": {
      "byteLimit": 2048000,
      "rowLimit": 10000
     },
     "inputWidgets": {},
     "nuid": "87736532-8dc8-411b-ae55-0f4e4f5420dc",
     "showTitle": false,
     "tableResultSettingsMap": {},
     "title": ""
    }
   },
   "outputs": [],
   "source": [
    "# tuple unpacking\n",
    "\n",
    "\n",
    "user_info = (\"krishna\", \"krishna@gmail.com\", \"1234567890\")\n",
    "\n",
    "name, email, id = user_info\n",
    "\n",
    "\n",
    "# formated strings\n",
    "print(\"name: {name}, email: {email}, id: {id}\".format(name=name, email=email, id=id))\n",
    "print(f\"name: {name}, email: {email}, id: {id}\")"
   ]
  },
  {
   "cell_type": "code",
   "execution_count": 0,
   "metadata": {
    "application/vnd.databricks.v1+cell": {
     "cellMetadata": {
      "byteLimit": 2048000,
      "rowLimit": 10000
     },
     "inputWidgets": {},
     "nuid": "60b3bc10-9a10-4303-8be0-5dcbb2a995c2",
     "showTitle": false,
     "tableResultSettingsMap": {},
     "title": ""
    }
   },
   "outputs": [],
   "source": [
    "# enumerate - function adds a counter to an interable and returns and enumerate obj. enumerate object yeilds pairs of index and values.\n",
    "\n",
    "fruits = [\"apple\", \"orange\", \"banana\", \"grapes\", \"mango\"]\n",
    "\n",
    "for index, fruit in enumerate(fruits, start=1):\n",
    "    print(f\"Index: {index}, Fruit: {fruit}\")\n",
    "\n",
    "\n"
   ]
  },
  {
   "cell_type": "code",
   "execution_count": 0,
   "metadata": {
    "application/vnd.databricks.v1+cell": {
     "cellMetadata": {
      "byteLimit": 2048000,
      "rowLimit": 10000
     },
     "inputWidgets": {},
     "nuid": "4e8ec718-e42e-4201-bbba-7a5c232b41a6",
     "showTitle": false,
     "tableResultSettingsMap": {},
     "title": ""
    }
   },
   "outputs": [],
   "source": [
    "# zip - aggregates elements from multiple iterables\n",
    "\n",
    "\n",
    "names = [\"rachel\", \"ross\", \"chandler\", \"pheobe\", \"monica\"]\n",
    "\n",
    "ages = [25, 30, 35, 40, 45]\n",
    "\n",
    "for name, age in zip(names, ages):\n",
    "    print(f\"Name: {name}, Age: {age}\")\n",
    "\n"
   ]
  },
  {
   "cell_type": "markdown",
   "metadata": {
    "application/vnd.databricks.v1+cell": {
     "cellMetadata": {
      "byteLimit": 2048000,
      "rowLimit": 10000
     },
     "inputWidgets": {},
     "nuid": "4710cf9d-485a-4fa2-b5bb-f1f6e2ccafff",
     "showTitle": false,
     "tableResultSettingsMap": {},
     "title": ""
    }
   },
   "source": [
    "## 6. Dictionaries in Python\n",
    "\n",
    "### Common Dictionary Methods\n",
    "\n",
    "| Method              | Description                          |\n",
    "| ------------------- | ------------------------------------ |\n",
    "| `get(key, default)` | Gets value or returns default        |\n",
    "| `keys()`            | Returns all keys                     |\n",
    "| `values()`          | Returns all values                   |\n",
    "| `items()`           | Returns key-value pairs as tuples    |\n",
    "| `update(dict2)`     | Updates dict with another dictionary |\n",
    "| `pop(key)`          | Removes key and returns its value    |\n",
    "\n"
   ]
  },
  {
   "cell_type": "code",
   "execution_count": 0,
   "metadata": {
    "application/vnd.databricks.v1+cell": {
     "cellMetadata": {
      "byteLimit": 2048000,
      "rowLimit": 10000
     },
     "inputWidgets": {},
     "nuid": "d5081868-3662-4669-9967-2360a4b56fb1",
     "showTitle": false,
     "tableResultSettingsMap": {},
     "title": ""
    }
   },
   "outputs": [],
   "source": [
    "user = {\n",
    "    \"name\": \"Krishna\",\n",
    "    \"email\": \"krishna@gmail.com\",\n",
    "    \"id\": \"1234567890\"\n",
    "}\n",
    "\n",
    "user.items()\n",
    "\n",
    "user.keys()\n",
    "\n",
    "user.values()\n",
    "\n",
    "user.get(\"name\")"
   ]
  },
  {
   "cell_type": "markdown",
   "metadata": {
    "application/vnd.databricks.v1+cell": {
     "cellMetadata": {
      "byteLimit": 2048000,
      "rowLimit": 10000
     },
     "inputWidgets": {},
     "nuid": "f53ad43c-9dd1-423a-a2d2-50998ffecfee",
     "showTitle": false,
     "tableResultSettingsMap": {},
     "title": ""
    }
   },
   "source": [
    "## 7. Functions and Lambda\n",
    "\n",
    "### Defining a Function\n",
    "\n",
    "```python\n",
    "def function_name(par1: type) -> return_type:\n",
    "  # code\n",
    "  retrun variable\n",
    "\n",
    "function_name(arg1)\n",
    "```\n",
    "\n"
   ]
  },
  {
   "cell_type": "code",
   "execution_count": 0,
   "metadata": {
    "application/vnd.databricks.v1+cell": {
     "cellMetadata": {
      "byteLimit": 2048000,
      "rowLimit": 10000
     },
     "inputWidgets": {},
     "nuid": "f02985ff-6d49-461e-98ae-85f4401d3802",
     "showTitle": false,
     "tableResultSettingsMap": {},
     "title": ""
    }
   },
   "outputs": [],
   "source": [
    "def add(x:int, y:int) -> int:\n",
    "    return x+y\n",
    "add(4,6)\n",
    "\n",
    "# variable args\n",
    "def print_values(**kwargs):\n",
    "    for key, value in kwargs.items():\n",
    "        print(f\"{key} = {value}\")\n",
    "\n",
    "\n",
    "print_values(name=\"Krishna\", email=\"krishna@gmail.com\", id=\"1234567890\")\n",
    "\n",
    "def print_numbers(**args):\n",
    "    sum = 0\n",
    "    for a in args.values():\n",
    "        sum+=a\n",
    "    return sum\n",
    "\n",
    "print_numbers(a=1, b=2, c=3)\n"
   ]
  },
  {
   "cell_type": "markdown",
   "metadata": {
    "application/vnd.databricks.v1+cell": {
     "cellMetadata": {
      "byteLimit": 2048000,
      "rowLimit": 10000
     },
     "inputWidgets": {},
     "nuid": "2dee69a2-f05a-4cfb-8281-d9c4f3e16f77",
     "showTitle": false,
     "tableResultSettingsMap": {},
     "title": ""
    }
   },
   "source": [
    "### Lambda Functions\n",
    "\n",
    "**Lambda Function:** A `lambda` function in Python is an anonymous, single-expression function defined using the lambda keyword. It's typically used for short, throwaway functions without a formal `def` block.\n",
    "\n",
    "```python\n",
    "square = lambda x: x * x\n",
    "print(square(4))\n",
    "```\n",
    "\n"
   ]
  },
  {
   "cell_type": "code",
   "execution_count": 0,
   "metadata": {
    "application/vnd.databricks.v1+cell": {
     "cellMetadata": {
      "byteLimit": 2048000,
      "rowLimit": 10000
     },
     "inputWidgets": {},
     "nuid": "7a5efd5b-1d6b-47eb-a761-774f77bafa13",
     "showTitle": false,
     "tableResultSettingsMap": {},
     "title": ""
    }
   },
   "outputs": [],
   "source": [
    "# lambda\n",
    "\n",
    "squared = list(map(lambda x: x**2, range(11)))\n",
    "\n",
    "for num in squared:\n",
    "    print(num)\n"
   ]
  },
  {
   "cell_type": "markdown",
   "metadata": {
    "application/vnd.databricks.v1+cell": {
     "cellMetadata": {
      "byteLimit": 2048000,
      "rowLimit": 10000
     },
     "inputWidgets": {},
     "nuid": "7afbf9b8-4361-4b0e-b8ab-b3c3c27d66d0",
     "showTitle": false,
     "tableResultSettingsMap": {},
     "title": ""
    }
   },
   "source": [
    "## 8. Error Handling\n",
    "\n",
    "### What is an Error?\n",
    "\n",
    "- An **error** is an issue that occurs during program execution, which stops the normal flow of the program. If not handled properly, it can crash the program.\n",
    "\n",
    "**Types of errors:**\n",
    "\n",
    "* **Syntax Errors**: Mistakes in the code structure (e.g., missing `:`, incorrect indentation).\n",
    "* **Runtime Errors (Exceptions)**: Errors that occur while the program is running (e.g., division by zero, invalid input).\n",
    "\n",
    "\n",
    "### `try`\n",
    "\n",
    "- The `try` block lets you test a block of code for errors.\n",
    "\n",
    "You place the **risky code** (code that might raise an exception) inside the `try` block.\n",
    "\n",
    "\n",
    "### `except`\n",
    "\n",
    "- The `except` block lets you **handle the error** that occurs in the `try` block.\n",
    "\n",
    "You can have multiple `except` blocks to handle different types of exceptions.\n",
    "\n",
    "\n",
    "### `finally`\n",
    "\n",
    "- The `finally` block contains code that **always executes**, whether an error occurred or not.\n",
    "\n",
    "This is useful for **clean-up operations** like closing files, releasing resources, etc.\n"
   ]
  },
  {
   "cell_type": "code",
   "execution_count": 0,
   "metadata": {
    "application/vnd.databricks.v1+cell": {
     "cellMetadata": {
      "byteLimit": 2048000,
      "rowLimit": 10000
     },
     "inputWidgets": {},
     "nuid": "d5054ac9-684e-46c3-a614-d1143c67350a",
     "showTitle": false,
     "tableResultSettingsMap": {},
     "title": ""
    }
   },
   "outputs": [],
   "source": [
    "try:\n",
    "    x = 0\n",
    "    print(10/x)\n",
    "except ZeroDivisionError:\n",
    "    print(\"cannot divide by zero\")\n",
    "except ValueError:\n",
    "    print(\"Invalid value\")\n",
    "finally:\n",
    "    print(\"program finished\")\n"
   ]
  },
  {
   "cell_type": "markdown",
   "metadata": {
    "application/vnd.databricks.v1+cell": {
     "cellMetadata": {
      "byteLimit": 2048000,
      "rowLimit": 10000
     },
     "inputWidgets": {},
     "nuid": "bc062908-3bc0-415f-9623-e10a1e0a4099",
     "showTitle": false,
     "tableResultSettingsMap": {},
     "title": ""
    }
   },
   "source": [
    "## Custom Exceptions in Python\n",
    "\n",
    "### What is a Custom Exception?\n",
    "\n",
    "- A **custom exception** is a user-defined error that you create by extending Python’s built-in `Exception` class. It allows you to raise meaningful, domain-specific errors in your program.\n",
    "\n",
    "You use custom exceptions when the built-in ones (like `ValueError`, `TypeError`, etc.) are not descriptive enough for your use case.\n",
    "\n",
    "\n",
    "\n"
   ]
  },
  {
   "cell_type": "code",
   "execution_count": 0,
   "metadata": {
    "application/vnd.databricks.v1+cell": {
     "cellMetadata": {
      "byteLimit": 2048000,
      "rowLimit": 10000
     },
     "inputWidgets": {},
     "nuid": "e60cba59-8d04-46c0-94e6-77b22d419662",
     "showTitle": false,
     "tableResultSettingsMap": {},
     "title": ""
    }
   },
   "outputs": [],
   "source": [
    "class NegativeNumberError(Exception):\n",
    "  \"\"\"raissed when a negative number is passed\"\"\"\n",
    "  pass\n",
    "\n",
    "def square_root(x):\n",
    "  if x<0:\n",
    "    raise NegativeNumberError(\"cannot compute sqrt of a negative integer\")\n",
    "\n",
    "square_root(-1)"
   ]
  }
 ],
 "metadata": {
  "application/vnd.databricks.v1+notebook": {
   "computePreferences": null,
   "dashboards": [],
   "environmentMetadata": {
    "base_environment": "",
    "environment_version": "2"
   },
   "inputWidgetPreferences": null,
   "language": "python",
   "notebookMetadata": {
    "pythonIndentUnit": 4
   },
   "notebookName": "01-python",
   "widgets": {}
  },
  "language_info": {
   "name": "python"
  }
 },
 "nbformat": 4,
 "nbformat_minor": 0
}
