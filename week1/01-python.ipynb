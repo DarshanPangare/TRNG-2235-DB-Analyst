{
 "cells": [
  {
   "cell_type": "markdown",
   "metadata": {
    "application/vnd.databricks.v1+cell": {
     "cellMetadata": {},
     "inputWidgets": {},
     "nuid": "6392a1b6-fe53-47f4-9e8f-d9a48f18b724",
     "showTitle": false,
     "tableResultSettingsMap": {},
     "title": ""
    }
   },
   "source": [
    "\n",
    "# Python Fundamentals\n",
    "\n",
    "## 1. Introduction to Python\n",
    "\n",
    "* Python is a high-level, interpreted programming language known for its readability and simplicity.\n",
    "* Widely used in data analysis, web development, automation, AI/ML, and more.\n",
    "* Python integrates seamlessly with big data tools like Apache Spark via PySpark.\n",
    "\n",
    "## 2. Python REPL and Basic I/O\n",
    "\n",
    "### REPL (Read-Eval-Print Loop)\n",
    "\n",
    "* Run Python interactively using `python` or `python3` in the terminal.\n",
    "* Useful for quick experimentation and debugging.\n",
    "\n",
    "### Input and Output\n",
    "\n",
    "```python\n",
    "name = input(\"Enter your name: \")\n",
    "print(\"Hello,\", name)\n",
    "```\n",
    "\n",
    "### Using `split()` for multiple inputs\n",
    "\n",
    "```python\n",
    "a, b = input(\"Enter two numbers: \").split()\n",
    "print(\"Sum:\", int(a) + int(b))\n",
    "```\n",
    "\n",
    "## 3. Data Types and Operations\n",
    "\n",
    "### Common Data Types\n",
    "\n",
    "* `int`, `float`, `bool`, `str`, `list`, `tuple`, `dict`, `set`\n",
    "\n"
   ]
  },
  {
   "cell_type": "code",
   "execution_count": 0,
   "metadata": {
    "application/vnd.databricks.v1+cell": {
     "cellMetadata": {},
     "inputWidgets": {},
     "nuid": "79643967-9127-419f-a123-b552ae1519aa",
     "showTitle": false,
     "tableResultSettingsMap": {},
     "title": ""
    }
   },
   "outputs": [],
   "source": []
  },
  {
   "cell_type": "markdown",
   "metadata": {
    "application/vnd.databricks.v1+cell": {
     "cellMetadata": {},
     "inputWidgets": {},
     "nuid": "81df2276-c993-470e-be61-a9bfae0c864f",
     "showTitle": false,
     "tableResultSettingsMap": {},
     "title": ""
    }
   },
   "source": [
    "\n",
    "## 4. Strings in Python\n",
    "\n",
    "\n",
    "### Common String Methods\n",
    "\n",
    "| Method           | Description                           |\n",
    "| ---------------- | ------------------------------------- |\n",
    "| `s.strip()`      | Removes leading/trailing whitespace   |\n",
    "| `s.lower()`      | Converts to lowercase                 |\n",
    "| `s.upper()`      | Converts to uppercase                 |\n",
    "| `s.replace(a,b)` | Replaces `a` with `b`                 |\n",
    "| `s.split()`      | Splits string by whitespace (or char) |\n",
    "| `s.join(list)`   | Joins list elements with a string     |"
   ]
  },
  {
   "cell_type": "code",
   "execution_count": 0,
   "metadata": {
    "application/vnd.databricks.v1+cell": {
     "cellMetadata": {},
     "inputWidgets": {},
     "nuid": "8420876c-ebe1-44b5-bc04-43fda53c1939",
     "showTitle": false,
     "tableResultSettingsMap": {},
     "title": ""
    }
   },
   "outputs": [],
   "source": []
  },
  {
   "cell_type": "markdown",
   "metadata": {
    "application/vnd.databricks.v1+cell": {
     "cellMetadata": {},
     "inputWidgets": {},
     "nuid": "8b9f6e01-c297-4c1c-aec8-adb561ee90d1",
     "showTitle": false,
     "tableResultSettingsMap": {},
     "title": ""
    }
   },
   "source": [
    "## 5. Lists in Python\n",
    "\n",
    "\n",
    "### Common List Methods\n",
    "\n",
    "| Method          | Description                                 |\n",
    "| --------------- | ------------------------------------------- |\n",
    "| `append(x)`     | Adds an element to the end                  |\n",
    "| `insert(i, x)`  | Inserts `x` at index `i`                    |\n",
    "| `pop()`         | Removes and returns last element            |\n",
    "| `remove(x)`     | Removes first occurrence of `x`             |\n",
    "| `sort()`        | Sorts the list in place                     |\n",
    "| `reverse()`     | Reverses the list in place                  |\n",
    "| `extend(list2)` | Adds elements from `list2` to original list |\n",
    "\n"
   ]
  },
  {
   "cell_type": "code",
   "execution_count": 0,
   "metadata": {
    "application/vnd.databricks.v1+cell": {
     "cellMetadata": {},
     "inputWidgets": {},
     "nuid": "6a8061b1-e236-4787-9f79-3a2683386be7",
     "showTitle": false,
     "tableResultSettingsMap": {},
     "title": ""
    }
   },
   "outputs": [],
   "source": []
  },
  {
   "cell_type": "markdown",
   "metadata": {
    "application/vnd.databricks.v1+cell": {
     "cellMetadata": {},
     "inputWidgets": {},
     "nuid": "4710cf9d-485a-4fa2-b5bb-f1f6e2ccafff",
     "showTitle": false,
     "tableResultSettingsMap": {},
     "title": ""
    }
   },
   "source": [
    "## 6. Dictionaries in Python\n",
    "\n",
    "### Common Dictionary Methods\n",
    "\n",
    "| Method              | Description                          |\n",
    "| ------------------- | ------------------------------------ |\n",
    "| `get(key, default)` | Gets value or returns default        |\n",
    "| `keys()`            | Returns all keys                     |\n",
    "| `values()`          | Returns all values                   |\n",
    "| `items()`           | Returns key-value pairs as tuples    |\n",
    "| `update(dict2)`     | Updates dict with another dictionary |\n",
    "| `pop(key)`          | Removes key and returns its value    |\n",
    "\n"
   ]
  },
  {
   "cell_type": "code",
   "execution_count": 0,
   "metadata": {
    "application/vnd.databricks.v1+cell": {
     "cellMetadata": {},
     "inputWidgets": {},
     "nuid": "d5081868-3662-4669-9967-2360a4b56fb1",
     "showTitle": false,
     "tableResultSettingsMap": {},
     "title": ""
    }
   },
   "outputs": [],
   "source": []
  },
  {
   "cell_type": "markdown",
   "metadata": {
    "application/vnd.databricks.v1+cell": {
     "cellMetadata": {},
     "inputWidgets": {},
     "nuid": "f53ad43c-9dd1-423a-a2d2-50998ffecfee",
     "showTitle": false,
     "tableResultSettingsMap": {},
     "title": ""
    }
   },
   "source": [
    "## 7. Functions and Lambda\n",
    "\n",
    "### Defining a Function\n",
    "\n",
    "```python\n",
    "def function_name(par1: type) -> return_type:\n",
    "  # code\n",
    "  retrun variable\n",
    "\n",
    "function_name(arg1)\n",
    "```\n",
    "\n"
   ]
  },
  {
   "cell_type": "code",
   "execution_count": 0,
   "metadata": {
    "application/vnd.databricks.v1+cell": {
     "cellMetadata": {},
     "inputWidgets": {},
     "nuid": "f02985ff-6d49-461e-98ae-85f4401d3802",
     "showTitle": false,
     "tableResultSettingsMap": {},
     "title": ""
    }
   },
   "outputs": [],
   "source": []
  },
  {
   "cell_type": "markdown",
   "metadata": {
    "application/vnd.databricks.v1+cell": {
     "cellMetadata": {},
     "inputWidgets": {},
     "nuid": "2dee69a2-f05a-4cfb-8281-d9c4f3e16f77",
     "showTitle": false,
     "tableResultSettingsMap": {},
     "title": ""
    }
   },
   "source": [
    "### Lambda Functions\n",
    "\n",
    "**Lambda Function:** A `lambda` function in Python is an anonymous, single-expression function defined using the lambda keyword. It's typically used for short, throwaway functions without a formal `def` block.\n",
    "\n",
    "```python\n",
    "square = lambda x: x * x\n",
    "print(square(4))\n",
    "```\n",
    "\n"
   ]
  },
  {
   "cell_type": "code",
   "execution_count": 0,
   "metadata": {
    "application/vnd.databricks.v1+cell": {
     "cellMetadata": {},
     "inputWidgets": {},
     "nuid": "7a5efd5b-1d6b-47eb-a761-774f77bafa13",
     "showTitle": false,
     "tableResultSettingsMap": {},
     "title": ""
    }
   },
   "outputs": [],
   "source": [
    "# lambda"
   ]
  },
  {
   "cell_type": "code",
   "execution_count": 0,
   "metadata": {
    "application/vnd.databricks.v1+cell": {
     "cellMetadata": {},
     "inputWidgets": {},
     "nuid": "3b68a6db-5166-40d0-9218-324b4e44cf37",
     "showTitle": false,
     "tableResultSettingsMap": {},
     "title": ""
    }
   },
   "outputs": [],
   "source": [
    "# lambda with lists"
   ]
  },
  {
   "cell_type": "markdown",
   "metadata": {
    "application/vnd.databricks.v1+cell": {
     "cellMetadata": {},
     "inputWidgets": {},
     "nuid": "7afbf9b8-4361-4b0e-b8ab-b3c3c27d66d0",
     "showTitle": false,
     "tableResultSettingsMap": {},
     "title": ""
    }
   },
   "source": [
    "## 8. Error Handling\n",
    "\n",
    "### What is an Error?\n",
    "\n",
    "- An **error** is an issue that occurs during program execution, which stops the normal flow of the program. If not handled properly, it can crash the program.\n",
    "\n",
    "**Types of errors:**\n",
    "\n",
    "* **Syntax Errors**: Mistakes in the code structure (e.g., missing `:`, incorrect indentation).\n",
    "* **Runtime Errors (Exceptions)**: Errors that occur while the program is running (e.g., division by zero, invalid input).\n",
    "\n",
    "\n",
    "### `try`\n",
    "\n",
    "- The `try` block lets you test a block of code for errors.\n",
    "\n",
    "You place the **risky code** (code that might raise an exception) inside the `try` block.\n",
    "\n",
    "\n",
    "### `except`\n",
    "\n",
    "- The `except` block lets you **handle the error** that occurs in the `try` block.\n",
    "\n",
    "You can have multiple `except` blocks to handle different types of exceptions.\n",
    "\n",
    "\n",
    "### `finally`\n",
    "\n",
    "- The `finally` block contains code that **always executes**, whether an error occurred or not.\n",
    "\n",
    "This is useful for **clean-up operations** like closing files, releasing resources, etc.\n"
   ]
  },
  {
   "cell_type": "code",
   "execution_count": 0,
   "metadata": {
    "application/vnd.databricks.v1+cell": {
     "cellMetadata": {},
     "inputWidgets": {},
     "nuid": "d5054ac9-684e-46c3-a614-d1143c67350a",
     "showTitle": false,
     "tableResultSettingsMap": {},
     "title": ""
    }
   },
   "outputs": [],
   "source": []
  },
  {
   "cell_type": "markdown",
   "metadata": {
    "application/vnd.databricks.v1+cell": {
     "cellMetadata": {},
     "inputWidgets": {},
     "nuid": "bc062908-3bc0-415f-9623-e10a1e0a4099",
     "showTitle": false,
     "tableResultSettingsMap": {},
     "title": ""
    }
   },
   "source": [
    "## Custom Exceptions in Python\n",
    "\n",
    "### What is a Custom Exception?\n",
    "\n",
    "- A **custom exception** is a user-defined error that you create by extending Python’s built-in `Exception` class. It allows you to raise meaningful, domain-specific errors in your program.\n",
    "\n",
    "You use custom exceptions when the built-in ones (like `ValueError`, `TypeError`, etc.) are not descriptive enough for your use case.\n",
    "\n",
    "\n",
    "\n"
   ]
  },
  {
   "cell_type": "code",
   "execution_count": 0,
   "metadata": {
    "application/vnd.databricks.v1+cell": {
     "cellMetadata": {},
     "inputWidgets": {},
     "nuid": "e60cba59-8d04-46c0-94e6-77b22d419662",
     "showTitle": false,
     "tableResultSettingsMap": {},
     "title": ""
    }
   },
   "outputs": [],
   "source": []
  }
 ],
 "metadata": {
  "application/vnd.databricks.v1+notebook": {
   "computePreferences": null,
   "dashboards": [],
   "environmentMetadata": {
    "base_environment": "",
    "environment_version": "2"
   },
   "inputWidgetPreferences": null,
   "language": "python",
   "notebookMetadata": {
    "pythonIndentUnit": 4
   },
   "notebookName": "01-python",
   "widgets": {}
  },
  "language_info": {
   "name": "python"
  }
 },
 "nbformat": 4,
 "nbformat_minor": 0
}
